{
  "nbformat": 4,
  "nbformat_minor": 0,
  "metadata": {
    "colab": {
      "name": "ML1.ipynb",
      "version": "0.3.2",
      "provenance": [],
      "collapsed_sections": [],
      "include_colab_link": true
    },
    "kernelspec": {
      "name": "python3",
      "display_name": "Python 3"
    },
    "accelerator": "TPU"
  },
  "cells": [
    {
      "cell_type": "markdown",
      "metadata": {
        "id": "view-in-github",
        "colab_type": "text"
      },
      "source": [
        "<a href=\"https://colab.research.google.com/github/Akhil-CS/RecommenderSystem/blob/master/ML1.ipynb\" target=\"_parent\"><img src=\"https://colab.research.google.com/assets/colab-badge.svg\" alt=\"Open In Colab\"/></a>"
      ]
    },
    {
      "cell_type": "code",
      "metadata": {
        "id": "UFRTULSYKJw1",
        "colab_type": "code",
        "outputId": "d70330e4-f5b7-4bef-fe67-0f9d3a415af3",
        "colab": {
          "base_uri": "https://localhost:8080/",
          "height": 123
        }
      },
      "source": [
        "from google.colab import drive\n",
        "drive.mount(\"/content/drive\")"
      ],
      "execution_count": 0,
      "outputs": [
        {
          "output_type": "stream",
          "text": [
            "Go to this URL in a browser: https://accounts.google.com/o/oauth2/auth?client_id=947318989803-6bn6qk8qdgf4n4g3pfee6491hc0brc4i.apps.googleusercontent.com&redirect_uri=urn%3Aietf%3Awg%3Aoauth%3A2.0%3Aoob&scope=email%20https%3A%2F%2Fwww.googleapis.com%2Fauth%2Fdocs.test%20https%3A%2F%2Fwww.googleapis.com%2Fauth%2Fdrive%20https%3A%2F%2Fwww.googleapis.com%2Fauth%2Fdrive.photos.readonly%20https%3A%2F%2Fwww.googleapis.com%2Fauth%2Fpeopleapi.readonly&response_type=code\n",
            "\n",
            "Enter your authorization code:\n",
            "··········\n",
            "Mounted at /content/drive\n"
          ],
          "name": "stdout"
        }
      ]
    },
    {
      "cell_type": "code",
      "metadata": {
        "id": "qFuv4sP5u_Op",
        "colab_type": "code",
        "colab": {}
      },
      "source": [
        "import pandas as pd\n",
        "import numpy as np\n",
        "from scipy.stats.stats import pearsonr\n",
        "import random"
      ],
      "execution_count": 0,
      "outputs": []
    },
    {
      "cell_type": "code",
      "metadata": {
        "id": "a7-9lWX8vaPN",
        "colab_type": "code",
        "colab": {}
      },
      "source": [
        "ratings = pd.read_csv(\"/content/drive/My Drive/colab/movielens/ratings.csv\")\n",
        "ratings = ratings[['userId','movieId', 'rating']].copy()"
      ],
      "execution_count": 0,
      "outputs": []
    },
    {
      "cell_type": "code",
      "metadata": {
        "id": "8zIiPvpIITio",
        "colab_type": "code",
        "colab": {}
      },
      "source": [
        "#for all the movies taking the ratings of all users to that movie\n",
        "#finding the average rating to that movie\n",
        "#finding the k top rated movies\n",
        "def top_k_movies_not_rated_by_target(k,target_user):\n",
        "  df_for_avg_k_movies = pd.DataFrame(columns=[\"movieId\", \"rating\"])\n",
        " \n",
        "  movie_not_rated_by_target = ratings.loc[ratings['userId'] != target_user]\n",
        "  movie_not_rated_by_target = movie_not_rated_by_target[['movieId', 'rating']].copy()\n",
        "  \n",
        "  not_rated_movies_by_target = set(list(movie_not_rated_by_target[['movieId']].values.flatten()))\n",
        "  \n",
        "  for movie in not_rated_movies_by_target:\n",
        "    fetch_movie_rows = movie_not_rated_by_target.loc[movie_not_rated_by_target['movieId'] == movie]\n",
        "    fetch_ratings_for_movie = fetch_movie_rows[['rating']].values.flatten()\n",
        "    avg_rating_for_movie = np.divide(np.sum(fetch_ratings_for_movie, axis=0),len(fetch_ratings_for_movie))\n",
        "    df_for_avg_k_movies = df_for_avg_k_movies.append({ \"movieId\": movie, \"rating\": avg_rating_for_movie}, ignore_index=True) \n",
        "  \n",
        "  df_for_avg_k_movies.sort_values('rating')\n",
        "  \n",
        "  return df_for_avg_k_movies.head(k)\n",
        "\n",
        "\n",
        "def find_movie_not_rated(target_user, ratings):\n",
        "  #movie_not_rated_by_target = ratings.loc[ratings['userId'] != target_user]\n",
        "  #movie_not_rated_by_target = movie_not_rated_by_target[['movieId', 'rating']].copy()  \n",
        "  k_movies_not_rated_by_target = 100\n",
        "  top_K_movies_not_rated_by_target = top_k_movies_not_rated_by_target(k_movies_not_rated_by_target, target_user)\n",
        "  return top_K_movies_not_rated_by_target\n",
        "\n",
        "def find_movie_rated(target_user, ratings):\n",
        "  movie_rated_by_target = ratings.loc[ratings['userId'] == target_user]\n",
        "  movie_rated_by_target = movie_rated_by_target[['movieId', 'rating']].copy()\n",
        "  return movie_rated_by_target\n",
        "\n",
        "def find_pearson_coeff_list(ratings, all_users_minus_target_user, arr_movies, arr_rating):\n",
        "  pearson = []\n",
        "  for user in all_users_minus_target_user:\n",
        "  \n",
        "    rated_movies_by_user = ratings.loc[ratings['userId'] == user].copy()\n",
        "\n",
        "    #rated_movies_by_user = list(rated_movies_by_user[['movieId']].values.flatten())\n",
        "    rating_by_user = []\n",
        "    for movie in arr_movies:\n",
        "      find_movie = rated_movies_by_user.loc[rated_movies_by_user['movieId'] == movie]\n",
        "      get_rating_on_movie = list(find_movie[['rating']].values.flatten())\n",
        "\n",
        "      #conditions to see whether a user has rated the movie or not\n",
        "\n",
        "      if get_rating_on_movie != []:\n",
        "        rating_by_user.append(get_rating_on_movie[0])\n",
        "      else:\n",
        "        rating_by_user.append(-1)\n",
        "\n",
        "\n",
        "    p_corr,p_value = pearsonr(arr_rating, rating_by_user)\n",
        "\n",
        "    #check if a number is nan or not --> if yes--> add -5000 to the list\n",
        "\n",
        "    if np.isnan(p_corr):\n",
        "      pearson.append(-500)\n",
        "    else:\n",
        "      pearson.append(p_corr)\n",
        "  \n",
        "  return pearson\n",
        "\n",
        "#getting the index of the top k users which are similar to the given user for K-NN\n",
        "def find_k_max(k, list_coeff):\n",
        "  max_k_users = sorted(range(len(list_coeff)), key=lambda i: list_coeff[i])[-k:]\n",
        "  return max_k_users\n",
        "\n",
        "def movies_rated_by_similar_users_which_target_hasnot_rated(ratings, max_k_users, all_users_minus_target_user, arr_movies):\n",
        "  #taking ids of all the similar users\n",
        "  similar_user_ids = []\n",
        "\n",
        "  #taking all the movies rated by similar user to suggest to the target user\n",
        "  \n",
        "  similar_user_rated_movies = []\n",
        "  for user in max_k_users:\n",
        "    similar_user_ids.append(all_users_minus_target_user[user])\n",
        "  #  user_rows = ratings.loc[ratings['userId'] == all_users_minus_target_user[user]]\n",
        "   # similar_user_rated_movies.extend(user_rows[['movieId']].values.flatten())\n",
        "\n",
        "\n",
        "  #From the movies which similar users has rated, removing the movies which target user has already seen\n",
        "  #similar_user_rated_movies = set(similar_user_rated_movies)-set(arr_movies)\n",
        " # return similar_user_rated_movies, similar_user_ids\n",
        "  return similar_user_ids\n",
        "\n",
        "\n",
        "def calculate_target_rating_on_unrated_movies(ratings, similar_user_ids, similar_user_rated_movies, max_k_users, target_user_avg_rating, list_coeff):\n",
        "  \n",
        "  # new dataframe for storing the movieId and predicted rating by the target user on unrated movies\n",
        "  df_for_predicted = pd.DataFrame(columns=[\"movieId\", \"predictedRating\"])\n",
        "\n",
        "  #From 'movie_not_rated_by_target' taking the movie ids not rated by target user \n",
        "  #movies_ids_not_rated_by_target = set(list(movie_not_rated_by_target[[\"movieId\"]].values.flatten()))\n",
        "  #finding rating for each movie not rated by the target\n",
        "\n",
        "  #movie_not_rated_by_target = movie_not_rated_by_target['movieId'].copy()\n",
        "\n",
        "  # 'movie_not_rated_by_target' will give an error here, instead uss 'similar_user_rated_movies'\n",
        "  for movie in similar_user_rated_movies:\n",
        "    i=0\n",
        "    total_sum_of_similarities_and_ratings = 0.0\n",
        "    total_sum_of_similarities = 0.0\n",
        "    rating_of_target_user_to_ith_movie = 0.0\n",
        "\n",
        "    #rating given by each similar user to the kth movie  \n",
        "    for eachSimilarUser in similar_user_ids:\n",
        "      similar_user_rows = ratings.loc[ratings['userId'] == eachSimilarUser]\n",
        "      average_rating_similar_user = np.divide(np.sum(similar_user_rows[['rating']].values.flatten(), axis=0),similar_user_rows.shape[0])\n",
        "\n",
        "      ############ handle the case here where that movie is not rated by the user coz it's taking trash value\n",
        "      similar_user_rating_to_movie = similar_user_rows.loc[similar_user_rows['movieId'] == movie]\n",
        "      rating_value = similar_user_rating_to_movie[['rating']].values.flatten()\n",
        "\n",
        "      if(len(rating_value) > 0):\n",
        "        pearson_coeff_user = abs(list_coeff[max_k_users[i]])\n",
        "        ###### check here if list_coeff[max_k_users[i]] is equal to  -5000....don't consider it\n",
        "        total_sum_of_similarities_and_ratings = total_sum_of_similarities_and_ratings + (pearson_coeff_user * (rating_value[0] - average_rating_similar_user))\n",
        "        total_sum_of_similarities = total_sum_of_similarities + pearson_coeff_user\n",
        "        i = i+1\n",
        "\n",
        "    ############ handle the else case --> NO NEED  ###############################\n",
        "    #print(\"hereeee\")\n",
        "    #print(target_user_avg_rating)\n",
        "    \n",
        "    if(total_sum_of_similarities != 0):\n",
        "      rating_of_target_user_to_ith_movie = target_user_avg_rating + (total_sum_of_similarities_and_ratings/total_sum_of_similarities) \n",
        "\n",
        "    ############ handle the else case --> NO NEED  ###############################\n",
        "      df_for_predicted = df_for_predicted.append({ \"movieId\": movie, \"predictedRating\": rating_of_target_user_to_ith_movie}, ignore_index=True)\n",
        "      #print(movie)\n",
        "     # print(rating_of_target_user_to_ith_movie)\n",
        "      #print()\n",
        "      #print(rating_of_target_user_to_ith_movie)\n",
        "  return df_for_predicted\n",
        "\n",
        "\n",
        "\n",
        "def user_user_recommendation(ratings, target_user, movie_not_rated_by_target, movie_rated_by_target, k):\n",
        "  \n",
        "  rated_movies_by_target = movie_rated_by_target[['movieId']]\n",
        "  ratings_by_target = movie_rated_by_target[['rating']]\n",
        "  \n",
        "  not_rated_movies_by_target = list(set(list(movie_not_rated_by_target[['movieId']].values.flatten())))\n",
        "\n",
        "  #converting to 1-D array of all movies rated by target user\n",
        "  arr_movies = list(rated_movies_by_target.values.flatten())\n",
        "  arr_rating = list(ratings_by_target.values.flatten())\n",
        "  #print(list(arr_movies))\n",
        "\n",
        "  num_movies = len(arr_movies)\n",
        "  all_users_minus_target_user = list(set(all_users) - set([target_user]))\n",
        "  \n",
        "  #pearson = find_pearson_coeff_list(ratings, all_users_minus_target_user, arr_movies, arr_rating)\n",
        "  \n",
        "  # save all the correlation coeffcients into a file in drive\n",
        "\n",
        "  '''\n",
        "  f = open(\"/content/drive/My Drive/colab/movielens/correlation.txt\", 'w')\n",
        "  f.write(\" \".join(str(x) for x in pearson))\n",
        "  f.close()\n",
        "  \n",
        "  \n",
        "  # get the file from the drive and read the contents\n",
        "\n",
        "  f = open(\"/content/drive/My Drive/colab/movielens/correlation.txt\", 'r')\n",
        "  coeff = f.read().split()\n",
        "  f.close()\n",
        "  list_coeff = []\n",
        "  for c in coeff:\n",
        "    #convert to float to be used later\n",
        "    list_coeff.append(float(c))\n",
        "  #print(list_coeff.index(max(list_coeff)))\n",
        "  '''\n",
        "  pearson = find_pearson_coeff_list(ratings, all_users_minus_target_user, arr_movies, arr_rating)\n",
        "  list_coeff = pearson\n",
        "  \n",
        "  max_k_users = find_k_max(k, list_coeff)\n",
        "  #print(\"1\")\n",
        "  similar_user_ids = movies_rated_by_similar_users_which_target_hasnot_rated(ratings, max_k_users, all_users_minus_target_user, arr_movies)\n",
        "  \n",
        "  #avg rating by target\n",
        "  target_user_avg_rating  = (np.divide(np.sum(ratings_by_target,axis = 0),len(ratings_by_target)).values.flatten())[0]\n",
        "  #print(\"2\")\n",
        "  # dataframe for predicted movies using KNN\n",
        "  df_for_predicted = calculate_target_rating_on_unrated_movies(ratings, similar_user_ids, not_rated_movies_by_target, max_k_users, target_user_avg_rating, list_coeff)\n",
        "  return df_for_predicted\n",
        "\n",
        "\n",
        "def item_item_recommendation(ratings, movie_rated_by_target, movie_not_rated_by_target, k):\n",
        "  \n",
        "  ratings_by_target = movie_rated_by_target[['rating']]\n",
        "  \n",
        "  rated_movies_by_target = movie_rated_by_target[['movieId']]\n",
        "  \n",
        "  #arr_rating = list(ratings_by_target.values.flatten())\n",
        "  #Getting all the movies not rated by the target\n",
        "  movies_ids_not_rated_by_target = list(set(list(movie_not_rated_by_target[[\"movieId\"]].values.flatten())))\n",
        "  \n",
        "  \n",
        "  \n",
        "   #converting to 1-D array of all movies rated by target user\n",
        "  arr_movies = list(rated_movies_by_target.values.flatten())\n",
        "  arr_rating = list(ratings_by_target.values.flatten())\n",
        "  \n",
        "  \n",
        "  #movie_notSeen = random.choice(movies_ids_not_rated_by_target)\n",
        "\n",
        "  #movies rated by target - we have in list 'arr_movies'\n",
        "  #looping through the movies seen by the target\n",
        "  df_for_predicted = pd.DataFrame(columns=[\"movieId\", \"predictedRating\"])\n",
        "\n",
        "  \n",
        "  #for all the movies not seen by the target user\n",
        "  for movie_notSeen in movies_ids_not_rated_by_target:\n",
        "    person_coeff_for_ItemBased = []\n",
        "    for movie_seen in arr_movies:\n",
        "      ratings_allusers_movieSeen_byTarget = []\n",
        "      ratings_allusers_movieNotSeen_byTarget = []\n",
        "\n",
        "      #all the users who have seen the movie seen by the target user\n",
        "      users_in_movieSeen = (ratings.loc[ratings[\"movieId\"] == movie_seen])[['userId']].values.flatten()\n",
        "\n",
        "      #all the users who have seen the movie for which we are predicted the rating\n",
        "      users_in_movieNotSeen = (ratings.loc[ratings[\"movieId\"] == movie_notSeen])[['userId']].values.flatten()\n",
        "\n",
        "      #users who saw both the movie seen by the target user and movie we are predicting\n",
        "      users_commmon_inBoth = list(set(users_in_movieSeen) & set(users_in_movieNotSeen))\n",
        "      for user in users_commmon_inBoth:\n",
        "        movies_rated = (ratings.loc[ratings[\"movieId\"] == movie_seen])\n",
        "        rating = (movies_rated.loc[ratings[\"userId\"] == user])[['rating']].values.flatten()\n",
        "        ratings_allusers_movieSeen_byTarget.append(rating[0])\n",
        "\n",
        "        movies_not_rated = (ratings.loc[ratings[\"movieId\"] == movie_notSeen])\n",
        "        rating = (movies_not_rated.loc[ratings[\"userId\"] == user])[['rating']].values.flatten()\n",
        "        ratings_allusers_movieNotSeen_byTarget.append(rating[0])\n",
        "\n",
        "      p_corr,p_value = pearsonr(ratings_allusers_movieNotSeen_byTarget,ratings_allusers_movieSeen_byTarget)\n",
        "      #check if a number is nan or not --> if yes--> add -5000 to the list\n",
        "      if np.isnan(p_corr):\n",
        "        person_coeff_for_ItemBased.append(-500)\n",
        "      else:\n",
        "        person_coeff_for_ItemBased.append(p_corr)\n",
        "    \n",
        "     # save all the correlation coeffcients into a file in drive\n",
        "    '''\n",
        "    f = open(\"/content/drive/My Drive/colab/movielens/correlation_item_item.txt\", 'w')\n",
        "    f.write(\" \".join(str(x) for x in person_coeff_for_ItemBased))\n",
        "    f.close()\n",
        "\n",
        "    \n",
        "    # get the file from the drive and read the contents\n",
        "\n",
        "    f = open(\"/content/drive/My Drive/colab/movielens/correlation_item_item.txt\", 'r')\n",
        "    coeff = f.read().split()\n",
        "    f.close()\n",
        "\n",
        "    list_coeff = []\n",
        "    for c in coeff:\n",
        "      #convert to float to be used later\n",
        "      list_coeff.append(float(c))\n",
        "    print(list_coeff.index(max(list_coeff)))\n",
        "    '''\n",
        "    \n",
        "    max_k_movies = sorted(range(len(person_coeff_for_ItemBased)), key=lambda i: person_coeff_for_ItemBased[i])[-k:]\n",
        "    #max_k_movies = find_k_max(k, person_coeff_for_ItemBased)\n",
        "\n",
        "    #calculating the predicted rating that the target user rates the target item\n",
        "    sum_of_similarities = 0\n",
        "    sum_of_similarities_and_rating = 0\n",
        "    for movie in max_k_movies:\n",
        "      sum_of_similarities += person_coeff_for_ItemBased[movie]\n",
        "     # print(len(arr_rating))\n",
        "     # print(movie)\n",
        "      sum_of_similarities_and_rating += (person_coeff_for_ItemBased[movie] * arr_rating[movie])\n",
        "    predicted_rating_to_targetedItem = (sum_of_similarities_and_rating/sum_of_similarities)\n",
        "    if predicted_rating_to_targetedItem > 5.0:\n",
        "      predicted_rating_to_targetedItem = 5\n",
        "    #print(predicted_rating_to_targetedItem)\n",
        "    \n",
        "    df_for_predicted = df_for_predicted.append({ \"movieId\": movie_notSeen, \"predictedRating\": predicted_rating_to_targetedItem}, ignore_index=True)\n",
        "  return df_for_predicted\n"
      ],
      "execution_count": 0,
      "outputs": []
    },
    {
      "cell_type": "code",
      "metadata": {
        "id": "SfMG4zwPuA8J",
        "colab_type": "code",
        "colab": {}
      },
      "source": [
        "import pandas as pd\n",
        "import numpy as np\n",
        "from scipy.stats.stats import pearsonr\n",
        "import random\n",
        "\n",
        "\n"
      ],
      "execution_count": 0,
      "outputs": []
    },
    {
      "cell_type": "code",
      "metadata": {
        "id": "JTmOxiGNRjRE",
        "colab_type": "code",
        "outputId": "e9b5d986-7239-4b82-ecc7-a113d0daa135",
        "colab": {
          "base_uri": "https://localhost:8080/",
          "height": 34
        }
      },
      "source": [
        "movies = pd.read_csv(\"/content/drive/My Drive/colab/movielens/movies.csv\")\n",
        "movies.head(5)\n",
        "len(movies)\n"
      ],
      "execution_count": 0,
      "outputs": [
        {
          "output_type": "execute_result",
          "data": {
            "text/plain": [
              "9742"
            ]
          },
          "metadata": {
            "tags": []
          },
          "execution_count": 7
        }
      ]
    },
    {
      "cell_type": "code",
      "metadata": {
        "id": "u08Dr4TPY5NV",
        "colab_type": "code",
        "outputId": "0298a1c7-2a67-4b97-9e83-3eaac1367f13",
        "colab": {
          "base_uri": "https://localhost:8080/",
          "height": 34
        }
      },
      "source": [
        "len(movies['movieId'].unique())"
      ],
      "execution_count": 0,
      "outputs": [
        {
          "output_type": "execute_result",
          "data": {
            "text/plain": [
              "9742"
            ]
          },
          "metadata": {
            "tags": []
          },
          "execution_count": 8
        }
      ]
    },
    {
      "cell_type": "code",
      "metadata": {
        "id": "ePhBdi9UUTeU",
        "colab_type": "code",
        "colab": {}
      },
      "source": [
        "ratings = pd.read_csv(\"/content/drive/My Drive/colab/movielens/ratings.csv\")\n",
        "ratings = ratings[['userId','movieId', 'rating']].copy()\n",
        "ratings.head(5)\n",
        "\n",
        "target_user = 10"
      ],
      "execution_count": 0,
      "outputs": []
    },
    {
      "cell_type": "code",
      "metadata": {
        "id": "Cz0DzA4PXGNi",
        "colab_type": "code",
        "outputId": "794e3b45-816a-4c90-89cc-e086de626127",
        "colab": {
          "base_uri": "https://localhost:8080/",
          "height": 34
        }
      },
      "source": [
        "#number of users\n",
        "all_users = ratings['userId'].unique()\n",
        "print(len(all_users))"
      ],
      "execution_count": 0,
      "outputs": [
        {
          "output_type": "stream",
          "text": [
            "610\n"
          ],
          "name": "stdout"
        }
      ]
    },
    {
      "cell_type": "code",
      "metadata": {
        "id": "IDjlghm3kirX",
        "colab_type": "code",
        "colab": {}
      },
      "source": [
        "# find all the movies not rated by him\n",
        "#movie_not_rated_by_target = find_movie_not_rated(target_user, ratings)\n",
        "\n",
        "movie_not_rated_by_target = pd.read_csv(\"/content/drive/My Drive/colab/movielens/movie_not_rated_by_target.csv\")\n",
        "\n",
        "# pick a random user say userId 10\n",
        "# total number of movies rated by him\n",
        "# find all the movies rated by him\n",
        "\n",
        "movie_rated_by_target = find_movie_rated(target_user, ratings)"
      ],
      "execution_count": 0,
      "outputs": []
    },
    {
      "cell_type": "markdown",
      "metadata": {
        "id": "kiZwaLstWMDU",
        "colab_type": "text"
      },
      "source": [
        "########################################\n",
        "\n",
        "USER USER BASED COLLABORATIVE FILTERING\n",
        "\n",
        "##########################################"
      ]
    },
    {
      "cell_type": "code",
      "metadata": {
        "id": "_e4oAdnApjKE",
        "colab_type": "code",
        "outputId": "485e8586-95bd-478e-d4b0-f897cfd8d99d",
        "colab": {
          "base_uri": "https://localhost:8080/",
          "height": 663
        }
      },
      "source": [
        "######## calling the function ...returns the movie ratings on the non-rated movies ####&&&&&&))))))))))))))))\n",
        "k=150\n",
        "\n",
        "movie_not_rated_by_target = movie_not_rated_by_target.head(50)\n",
        "df_for_predicted = user_user_recommendation(ratings, target_user, movie_not_rated_by_target, movie_rated_by_target, k)\n",
        "\n",
        "filename = \"{}{}{}\".format(\"/content/drive/My Drive/colab/movielens/df_for_predicted_user_user_\", k, \".csv\")\n",
        "f = open(filename, 'w')\n",
        "df_for_predicted.to_csv(f, columns = [\"movieId\", \"predictedRating\"])\n",
        "f.close()\n",
        "\n",
        "# finding the top 10 predicted by K-NN movies for the user recommendation.\n",
        "#finding the dataframe with movie id and it's rating on the basis of max rating\n",
        "#filename = \"{}{}{}\".format(\"/content/drive/My Drive/colab/movielens/df_for_predicted_user_user_\", k, \".csv\")\n",
        "\n",
        "#df_for_predicted = pd.read_csv(filename)\n",
        "\n",
        "df_top_movies = df_for_predicted.sort_values('predictedRating', ascending=False).head(10)\n",
        "print(df_top_movies)\n",
        "movieIds_to_recommend = df_top_movies[['movieId']].values.flatten()\n",
        "\n",
        "\n",
        "#join the two dataframes on movieId\n",
        "mergedMovies = pd.merge(df_top_movies, movies, on=['movieId'], how='inner')\n",
        "\n",
        "\n",
        "#save it in a file\n",
        "filename = \"{}{}{}\".format(\"/content/drive/My Drive/colab/movielens/prediction_user_user_top10_\", k, \".csv\")\n",
        "f = open(filename, 'w')\n",
        "mergedMovies.to_csv(f, columns = [\"movieId\", \"predictedRating\"])\n",
        "f.close()\n",
        "\n",
        "print(\"k\")\n",
        "print(k)\n",
        "print(mergedMovies)\n"
      ],
      "execution_count": 0,
      "outputs": [
        {
          "output_type": "stream",
          "text": [
            "/usr/local/lib/python3.6/dist-packages/scipy/stats/stats.py:3010: RuntimeWarning: invalid value encountered in double_scalars\n",
            "  r = r_num / r_den\n"
          ],
          "name": "stderr"
        },
        {
          "output_type": "stream",
          "text": [
            "     movieId  predictedRating\n",
            "26  131098.0         4.805598\n",
            "29  131104.0         4.305598\n",
            "25      29.0         4.026120\n",
            "42      50.0         3.809021\n",
            "24      28.0         3.679833\n",
            "0        1.0         3.641221\n",
            "4        6.0         3.591779\n",
            "37      45.0         3.552965\n",
            "28      32.0         3.499852\n",
            "10      13.0         3.387458\n",
            "k\n",
            "150\n",
            "  movieId  predictedRating                                              title  \\\n",
            "0  131098         4.805598                                Saving Santa (2013)   \n",
            "1  131104         4.305598                                   The Brain (1969)   \n",
            "2      29         4.026120  City of Lost Children, The (Cité des enfants p...   \n",
            "3      50         3.809021                         Usual Suspects, The (1995)   \n",
            "4      28         3.679833                                  Persuasion (1995)   \n",
            "5       1         3.641221                                   Toy Story (1995)   \n",
            "6       6         3.591779                                        Heat (1995)   \n",
            "7      45         3.552965                                  To Die For (1995)   \n",
            "8      32         3.499852          Twelve Monkeys (a.k.a. 12 Monkeys) (1995)   \n",
            "9      13         3.387458                                       Balto (1995)   \n",
            "\n",
            "                                        genres  \n",
            "0                    Animation|Children|Comedy  \n",
            "1                                 Comedy|Crime  \n",
            "2       Adventure|Drama|Fantasy|Mystery|Sci-Fi  \n",
            "3                       Crime|Mystery|Thriller  \n",
            "4                                Drama|Romance  \n",
            "5  Adventure|Animation|Children|Comedy|Fantasy  \n",
            "6                        Action|Crime|Thriller  \n",
            "7                        Comedy|Drama|Thriller  \n",
            "8                      Mystery|Sci-Fi|Thriller  \n",
            "9                 Adventure|Animation|Children  \n"
          ],
          "name": "stdout"
        }
      ]
    },
    {
      "cell_type": "code",
      "metadata": {
        "id": "z5f2n9g2tt3-",
        "colab_type": "code",
        "outputId": "c7a396fd-dd51-4d70-9f37-d51fec9aa254",
        "colab": {
          "base_uri": "https://localhost:8080/",
          "height": 87
        }
      },
      "source": [
        "## show the list of names of top 10 movies to the target as recommendation\n",
        "\n",
        "filename = \"{}{}{}\".format(\"/content/drive/My Drive/colab/movielens/df_for_predicted_user_user_\", k, \".csv\")\n",
        "df_for_predicted = pd.read_csv(filename)\n",
        "print(df_for_predicted.dtypes)\n",
        "\n",
        "#df_for_predicted['predictedRating'] = pd.to_numeric(df_for_predicted['predictedRating'])\n",
        "\n",
        "df_top_movies = df_for_predicted.nlargest(10, 'predictedRating')\n",
        "\n",
        "movieIds_to_recommend = df_top_movies[['movieId']].values.flatten()"
      ],
      "execution_count": 0,
      "outputs": [
        {
          "output_type": "stream",
          "text": [
            "Unnamed: 0           int64\n",
            "movieId            float64\n",
            "predictedRating    float64\n",
            "dtype: object\n"
          ],
          "name": "stdout"
        }
      ]
    },
    {
      "cell_type": "code",
      "metadata": {
        "id": "F-1UDGDI-lPh",
        "colab_type": "code",
        "outputId": "ce711390-4081-4459-f325-12874e5bd0b5",
        "colab": {
          "base_uri": "https://localhost:8080/",
          "height": 158
        }
      },
      "source": [
        "###### code for testing user user\n",
        "## getting 10% of movies rated by the target as not rated\n",
        "## other 90% as rated\n",
        "\n",
        "movie_rated_by_target = find_movie_rated(target_user, ratings)\n",
        "#print(movie_rated_by_target.shape[0])\n",
        "\n",
        "percent10 = int((movie_rated_by_target.shape[0]*0.1))\n",
        "\n",
        "\n",
        "test_movies = movie_rated_by_target.head(percent10)\n",
        "#print(test_movies)\n",
        "train_movies = movie_rated_by_target.tail(movie_rated_by_target.shape[0]-percent10)\n",
        "\n",
        "k_values=[30]\n",
        "\n",
        "\n",
        "df_k_vs_RMSE = pd.DataFrame(columns=[\"k1\", \"RMSE1\"])\n",
        "\n",
        "for k in k_values:\n",
        "  print(k)\n",
        "  df_for_predicted = user_user_recommendation(ratings, target_user, test_movies, train_movies, k)\n",
        "\n",
        "  predicted = np.array(df_for_predicted['predictedRating'].values.flatten())\n",
        "  true = np.array(test_movies['rating'].values.flatten())\n",
        "\n",
        "  RMSE = np.sqrt(((predicted - true) ** 2).mean())\n",
        "  df_k_vs_RMSE = df_k_vs_RMSE.append({ \"k1\": k, \"RMSE1\": RMSE}, ignore_index = True)\n",
        "\n",
        "  print(RMSE)\n",
        "print(df_k_vs_RMSE)\n",
        "\n",
        "'''\n",
        "filename = \"{}\".format(\"/content/drive/My Drive/colab/movielens/prediction_user_user_k_vs_RMSE.csv\")\n",
        "f = open(filename, 'w')\n",
        "df_k_vs_RMSE.to_csv(f)\n",
        "f.close()\n",
        "'''"
      ],
      "execution_count": 0,
      "outputs": [
        {
          "output_type": "stream",
          "text": [
            "30\n"
          ],
          "name": "stdout"
        },
        {
          "output_type": "stream",
          "text": [
            "/usr/local/lib/python3.6/dist-packages/scipy/stats/stats.py:3010: RuntimeWarning: invalid value encountered in double_scalars\n",
            "  r = r_num / r_den\n"
          ],
          "name": "stderr"
        },
        {
          "output_type": "stream",
          "text": [
            "1.6993086300293327\n",
            "     k1     RMSE1\n",
            "0  30.0  1.699309\n"
          ],
          "name": "stdout"
        },
        {
          "output_type": "execute_result",
          "data": {
            "text/plain": [
              "'\\nfilename = \"{}\".format(\"/content/drive/My Drive/colab/movielens/prediction_user_user_k_vs_RMSE.csv\")\\nf = open(filename, \\'w\\')\\ndf_k_vs_RMSE.to_csv(f)\\nf.close()\\n'"
            ]
          },
          "metadata": {
            "tags": []
          },
          "execution_count": 12
        }
      ]
    },
    {
      "cell_type": "code",
      "metadata": {
        "id": "FVmNCdWBZ-ql",
        "colab_type": "code",
        "colab": {}
      },
      "source": [
        ""
      ],
      "execution_count": 0,
      "outputs": []
    },
    {
      "cell_type": "markdown",
      "metadata": {
        "id": "jYGDBYMCBgrH",
        "colab_type": "text"
      },
      "source": [
        "########################################\n",
        "\n",
        "ITEM ITEM BASED COLLABORATIVE FILTERING\n",
        "\n",
        "##########################################"
      ]
    },
    {
      "cell_type": "code",
      "metadata": {
        "id": "8z0cT6I1V524",
        "colab_type": "code",
        "outputId": "15a80828-018a-49cd-8709-f68966a18a69",
        "colab": {
          "base_uri": "https://localhost:8080/",
          "height": 544
        }
      },
      "source": [
        "#Item-Item based filtering\n",
        "#this approach tries to capture how the active user rates the similar items. \n",
        "k = 50\n",
        "df_for_predicted = item_item_recommendation(ratings, movie_rated_by_target, movie_not_rated_by_target, k)\n",
        "\n",
        "#save it in a file\n",
        "filename = \"{}{}{}\".format(\"/content/drive/My Drive/colab/movielens/prediction_item_item_\", k, \".csv\")\n",
        "f = open(filename, 'w')\n",
        "df_for_predicted.to_csv(f, columns = [\"movieId\", \"predictedRating\"])\n",
        "f.close()\n",
        "\n",
        "# finding the top 10 predicted by K-NN movies for the user recommendation.\n",
        "#finding the dataframe with movie id and it's rating on the basis of max rating\n",
        "\n",
        "df_top_movies = df_for_predicted.nlargest(10, 'predictedRating')\n",
        "#join the two dataframes on movieId\n",
        "mergedMovies = pd.merge(df_top_movies, movies, on=['movieId'], how='inner')\n",
        "\n",
        "#save it in a file\n",
        "filename = \"{}{}{}\".format(\"/content/drive/My Drive/colab/movielens/item_item_top10_\", k, \".csv\")\n",
        "f = open(filename, 'w')\n",
        "mergedMovies.to_csv(f, columns = [\"movieId\", \"predictedRating\"])\n",
        "f.close()\n",
        "\n",
        "print(mergedMovies)\n"
      ],
      "execution_count": 0,
      "outputs": [
        {
          "output_type": "stream",
          "text": [
            "/usr/local/lib/python3.6/dist-packages/scipy/stats/stats.py:3010: RuntimeWarning: invalid value encountered in double_scalars\n",
            "  r = r_num / r_den\n",
            "/usr/local/lib/python3.6/dist-packages/scipy/stats/stats.py:3005: RuntimeWarning: Mean of empty slice.\n",
            "  mx = x.mean()\n",
            "/usr/local/lib/python3.6/dist-packages/numpy/core/_methods.py:80: RuntimeWarning: invalid value encountered in double_scalars\n",
            "  ret = ret.dtype.type(ret / rcount)\n",
            "/usr/local/lib/python3.6/dist-packages/scipy/stats/stats.py:3006: RuntimeWarning: Mean of empty slice.\n",
            "  my = y.mean()\n"
          ],
          "name": "stderr"
        },
        {
          "output_type": "stream",
          "text": [
            "  movieId  predictedRating                                 title  \\\n",
            "0      46         4.157561  How to Make an American Quilt (1995)   \n",
            "1      22         3.773549                        Copycat (1995)   \n",
            "2      24         3.722585                         Powder (1995)   \n",
            "3      31         3.565487                Dangerous Minds (1995)   \n",
            "4      26         3.563641                        Othello (1995)   \n",
            "5      44         3.519739                  Mortal Kombat (1995)   \n",
            "6      27         3.497783                   Now and Then (1995)   \n",
            "7      39         3.493073                       Clueless (1995)   \n",
            "8      15         3.487994               Cutthroat Island (1995)   \n",
            "9      48         3.484763                     Pocahontas (1995)   \n",
            "\n",
            "                                     genres  \n",
            "0                             Drama|Romance  \n",
            "1       Crime|Drama|Horror|Mystery|Thriller  \n",
            "2                              Drama|Sci-Fi  \n",
            "3                                     Drama  \n",
            "4                                     Drama  \n",
            "5                  Action|Adventure|Fantasy  \n",
            "6                            Children|Drama  \n",
            "7                            Comedy|Romance  \n",
            "8                  Action|Adventure|Romance  \n",
            "9  Animation|Children|Drama|Musical|Romance  \n"
          ],
          "name": "stdout"
        }
      ]
    },
    {
      "cell_type": "code",
      "metadata": {
        "id": "fURo3X1BFDZx",
        "colab_type": "code",
        "colab": {}
      },
      "source": [
        "## testing for Item Item based\n",
        "\n",
        "## getting 10% of movies rated by the target as not rated\n",
        "## other 90% as rated\n",
        "movie_rated_by_target = find_movie_rated(target_user, ratings)\n",
        "\n",
        "movie_not_rated_by_target = find_movie_not_rated(target_user, ratings)\n",
        "percent10 = int((movie_rated_by_target.shape[0]*0.1))\n",
        "\n",
        "test_movies = movie_rated_by_target.head(percent10)\n",
        "train_movies = movie_rated_by_target.tail(movie_rated_by_target.shape[0]-percent10)\n",
        "\n",
        "df_k_vs_RMSE = pd.DataFrame(columns=[\"k1\", \"RMSE1\"])\n",
        "k_values = [50,100,150,200,250,300]\n",
        "\n",
        "#check for different values of k to plot the graph\n",
        "for k in k_values:\n",
        "  df_for_predicted = item_item_recommendation(ratings, train_movies, test_movies, k)\n",
        "\n",
        "\n",
        "  #save it in a file\n",
        "  filename = \"{}{}{}\".format(\"/content/drive/My Drive/colab/movielens/df_for_predicted_item_item_\", k, \".csv\")\n",
        "  f = open(filename, 'w')\n",
        "  df_for_predicted.to_csv(f, columns = [\"movieId\", \"predictedRating\"])\n",
        "  f.close()\n",
        "\n",
        "\n",
        "  predicted = np.array(df_for_predicted['predictedRating'].values.flatten())\n",
        "  true = np.array(test_movies['rating'].values.flatten())\n",
        "\n",
        "  RMSE = np.sqrt(((predicted - true) ** 2).mean())\n",
        "  df_k_vs_RMSE = df_k_vs_RMSE.append({ \"k1\": k, \"RMSE1\": RMSE}, ignore_index = True)\n",
        "\n",
        "  print(RMSE)\n",
        "\n",
        "print(df_k_vs_RMSE)\n",
        "\n",
        "filename = \"{}\".format(\"/content/drive/My Drive/colab/movielens/prediction_item_item_k_vs_RMSE.csv\")\n",
        "f = open(filename, 'w')\n",
        "df_k_vs_RMSE.to_csv(f)\n",
        "f.close()\n"
      ],
      "execution_count": 0,
      "outputs": []
    },
    {
      "cell_type": "markdown",
      "metadata": {
        "id": "DJ8LZiMIwram",
        "colab_type": "text"
      },
      "source": [
        "######################\n",
        "\n",
        "**GRAPH Plotting**\n",
        "######################"
      ]
    },
    {
      "cell_type": "code",
      "metadata": {
        "id": "i6cR_x76L-bk",
        "colab_type": "code",
        "colab": {}
      },
      "source": [
        "import matplotlib.pyplot as plt  \n",
        "import seaborn as sns  \n",
        "sns.set_style('dark')  \n",
        "%matplotlib inline"
      ],
      "execution_count": 0,
      "outputs": []
    },
    {
      "cell_type": "code",
      "metadata": {
        "id": "2aQeFHL7MBUS",
        "colab_type": "code",
        "colab": {}
      },
      "source": [
        "## USER USER RMSE graphs\n",
        "user_user_k_vs_RMSE = pd.read_csv(\"/content/drive/My Drive/colab/movielens/user_user_k_vs_RMSE.csv\")\n",
        "\n",
        "plt.figure(figsize=(8,6))  \n",
        "plt.rcParams['patch.force_edgecolor'] = True  \n",
        "plt.scatter(user_user_k_vs_RMSE['k1'], user_user_k_vs_RMSE['RMSE1'])\n",
        "plt.xlabel('k values')\n",
        "plt.ylabel('RMSE')\n",
        "plt.show()\n",
        "\n",
        "\n",
        "## ITEM ITEM RMSE graphs\n",
        "item_item_k_vs_RMSE = pd.read_csv(\"/content/drive/My Drive/colab/movielens/prediction_item_item_k_vs_RMSE.csv\")\n",
        "\n",
        "plt.figure(figsize=(8,6))  \n",
        "plt.rcParams['patch.force_edgecolor'] = True  \n",
        "plt.scatter(item_item_k_vs_RMSE['k1'], item_item_k_vs_RMSE['RMSE1'])\n",
        "plt.xlabel('k values')\n",
        "plt.ylabel('RMSE')\n",
        "plt.show()"
      ],
      "execution_count": 0,
      "outputs": []
    },
    {
      "cell_type": "code",
      "metadata": {
        "id": "pWndFbV-T-Pe",
        "colab_type": "code",
        "outputId": "0a0bb410-b9d0-4d1f-9292-b652e8c9fd35",
        "colab": {
          "base_uri": "https://localhost:8080/",
          "height": 359
        }
      },
      "source": [
        "k = 30\n",
        "f = \"/content/drive/My Drive/colab/movielens/prediction_user_user_top10_30.csv\"\n",
        "\n",
        "\n",
        "result = pd.read_csv(f)\n",
        "result = result.head(10)\n",
        "\n",
        "#join the two dataframes on movieId\n",
        "result = pd.merge(result, movies, on=['movieId'], how='inner')\n",
        "result.head(10)"
      ],
      "execution_count": 0,
      "outputs": [
        {
          "output_type": "execute_result",
          "data": {
            "text/html": [
              "<div>\n",
              "<style scoped>\n",
              "    .dataframe tbody tr th:only-of-type {\n",
              "        vertical-align: middle;\n",
              "    }\n",
              "\n",
              "    .dataframe tbody tr th {\n",
              "        vertical-align: top;\n",
              "    }\n",
              "\n",
              "    .dataframe thead th {\n",
              "        text-align: right;\n",
              "    }\n",
              "</style>\n",
              "<table border=\"1\" class=\"dataframe\">\n",
              "  <thead>\n",
              "    <tr style=\"text-align: right;\">\n",
              "      <th></th>\n",
              "      <th>Unnamed: 0</th>\n",
              "      <th>movieId</th>\n",
              "      <th>predictedRating</th>\n",
              "      <th>title</th>\n",
              "      <th>genres</th>\n",
              "    </tr>\n",
              "  </thead>\n",
              "  <tbody>\n",
              "    <tr>\n",
              "      <th>0</th>\n",
              "      <td>0</td>\n",
              "      <td>131098</td>\n",
              "      <td>4.805598</td>\n",
              "      <td>Saving Santa (2013)</td>\n",
              "      <td>Animation|Children|Comedy</td>\n",
              "    </tr>\n",
              "    <tr>\n",
              "      <th>1</th>\n",
              "      <td>1</td>\n",
              "      <td>50</td>\n",
              "      <td>4.422825</td>\n",
              "      <td>Usual Suspects, The (1995)</td>\n",
              "      <td>Crime|Mystery|Thriller</td>\n",
              "    </tr>\n",
              "    <tr>\n",
              "      <th>2</th>\n",
              "      <td>2</td>\n",
              "      <td>131104</td>\n",
              "      <td>4.305598</td>\n",
              "      <td>The Brain (1969)</td>\n",
              "      <td>Comedy|Crime</td>\n",
              "    </tr>\n",
              "    <tr>\n",
              "      <th>3</th>\n",
              "      <td>3</td>\n",
              "      <td>31</td>\n",
              "      <td>4.181749</td>\n",
              "      <td>Dangerous Minds (1995)</td>\n",
              "      <td>Drama</td>\n",
              "    </tr>\n",
              "    <tr>\n",
              "      <th>4</th>\n",
              "      <td>4</td>\n",
              "      <td>16</td>\n",
              "      <td>3.742857</td>\n",
              "      <td>Casino (1995)</td>\n",
              "      <td>Crime|Drama</td>\n",
              "    </tr>\n",
              "    <tr>\n",
              "      <th>5</th>\n",
              "      <td>5</td>\n",
              "      <td>32</td>\n",
              "      <td>3.727687</td>\n",
              "      <td>Twelve Monkeys (a.k.a. 12 Monkeys) (1995)</td>\n",
              "      <td>Mystery|Sci-Fi|Thriller</td>\n",
              "    </tr>\n",
              "    <tr>\n",
              "      <th>6</th>\n",
              "      <td>6</td>\n",
              "      <td>1</td>\n",
              "      <td>3.648345</td>\n",
              "      <td>Toy Story (1995)</td>\n",
              "      <td>Adventure|Animation|Children|Comedy|Fantasy</td>\n",
              "    </tr>\n",
              "    <tr>\n",
              "      <th>7</th>\n",
              "      <td>7</td>\n",
              "      <td>39</td>\n",
              "      <td>3.332003</td>\n",
              "      <td>Clueless (1995)</td>\n",
              "      <td>Comedy|Romance</td>\n",
              "    </tr>\n",
              "    <tr>\n",
              "      <th>8</th>\n",
              "      <td>8</td>\n",
              "      <td>2</td>\n",
              "      <td>3.197514</td>\n",
              "      <td>Jumanji (1995)</td>\n",
              "      <td>Adventure|Children|Fantasy</td>\n",
              "    </tr>\n",
              "    <tr>\n",
              "      <th>9</th>\n",
              "      <td>9</td>\n",
              "      <td>10</td>\n",
              "      <td>2.994588</td>\n",
              "      <td>GoldenEye (1995)</td>\n",
              "      <td>Action|Adventure|Thriller</td>\n",
              "    </tr>\n",
              "  </tbody>\n",
              "</table>\n",
              "</div>"
            ],
            "text/plain": [
              "   Unnamed: 0 movieId  predictedRating  \\\n",
              "0           0  131098         4.805598   \n",
              "1           1      50         4.422825   \n",
              "2           2  131104         4.305598   \n",
              "3           3      31         4.181749   \n",
              "4           4      16         3.742857   \n",
              "5           5      32         3.727687   \n",
              "6           6       1         3.648345   \n",
              "7           7      39         3.332003   \n",
              "8           8       2         3.197514   \n",
              "9           9      10         2.994588   \n",
              "\n",
              "                                       title  \\\n",
              "0                        Saving Santa (2013)   \n",
              "1                 Usual Suspects, The (1995)   \n",
              "2                           The Brain (1969)   \n",
              "3                     Dangerous Minds (1995)   \n",
              "4                              Casino (1995)   \n",
              "5  Twelve Monkeys (a.k.a. 12 Monkeys) (1995)   \n",
              "6                           Toy Story (1995)   \n",
              "7                            Clueless (1995)   \n",
              "8                             Jumanji (1995)   \n",
              "9                           GoldenEye (1995)   \n",
              "\n",
              "                                        genres  \n",
              "0                    Animation|Children|Comedy  \n",
              "1                       Crime|Mystery|Thriller  \n",
              "2                                 Comedy|Crime  \n",
              "3                                        Drama  \n",
              "4                                  Crime|Drama  \n",
              "5                      Mystery|Sci-Fi|Thriller  \n",
              "6  Adventure|Animation|Children|Comedy|Fantasy  \n",
              "7                               Comedy|Romance  \n",
              "8                   Adventure|Children|Fantasy  \n",
              "9                    Action|Adventure|Thriller  "
            ]
          },
          "metadata": {
            "tags": []
          },
          "execution_count": 96
        }
      ]
    },
    {
      "cell_type": "code",
      "metadata": {
        "id": "_L88XqfgtAcH",
        "colab_type": "code",
        "outputId": "44f268a8-a483-4048-db0c-1a6b63b212f5",
        "colab": {
          "base_uri": "https://localhost:8080/",
          "height": 391
        }
      },
      "source": [
        "\n",
        "\n",
        "\n",
        "#  1) No of people who rated the top 100 ratings that is , rating counts of top 100 movies.....histogram\n",
        "movie_data = pd.merge(ratings, movies, on='movieId',how = 'inner')\n",
        "\n",
        "#movie_data.groupby('movieId')['rating'].mean().head()\n",
        "#movie_data.groupby('title')['rating'].count().sort_values(ascending=False).head(100)\n",
        "ratings_mean_count = pd.DataFrame(movie_data.groupby('title')['rating'].mean())\n",
        "ratings_mean_count['rating_counts'] = pd.DataFrame(movie_data.groupby('title')['rating'].count())\n",
        "ratings_mean_count.head()\n",
        "\n",
        "plt.figure(figsize=(8,6))  \n",
        "plt.rcParams['patch.force_edgecolor'] = True  \n",
        "ratings_mean_count['rating_counts'].hist(bins=50)  \n",
        "\n",
        "\n",
        "\n",
        "#movie_data.groupby('title')['rating'].count().sort_values(ascending=False).head()\n",
        "#ratings_mean_count['rating_counts'] = pd.DataFrame(movie_data.groupby('title')['rating'].count())\n",
        "#print(ratings_mean_count.head())"
      ],
      "execution_count": 0,
      "outputs": [
        {
          "output_type": "execute_result",
          "data": {
            "text/plain": [
              "<matplotlib.axes._subplots.AxesSubplot at 0x7f1507a24940>"
            ]
          },
          "metadata": {
            "tags": []
          },
          "execution_count": 55
        },
        {
          "output_type": "display_data",
          "data": {
            "image/png": "[encoded data removed]",
            "text/plain": [
              "<matplotlib.figure.Figure at 0x7f1507973240>"
            ]
          },
          "metadata": {
            "tags": []
          }
        }
      ]
    },
    {
      "cell_type": "code",
      "metadata": {
        "id": "EXHbtdv384-2",
        "colab_type": "code",
        "colab": {}
      },
      "source": [
        "#  2)  Histogram for average ratings\n",
        "plt.figure(figsize=(8,6))  \n",
        "plt.rcParams['patch.force_edgecolor'] = True \n",
        "plt.xlabel('Average Ratings')\n",
        "plt.ylabel('No. of average ratings')\n",
        "ratings_mean_count['rating'].hist(bins=50) \n",
        "\n"
      ],
      "execution_count": 0,
      "outputs": []
    },
    {
      "cell_type": "code",
      "metadata": {
        "id": "ldgECJqoCwtE",
        "colab_type": "code",
        "outputId": "8c79dc4b-51ea-4387-b1a1-efec32d14b12",
        "colab": {
          "base_uri": "https://localhost:8080/",
          "height": 475
        }
      },
      "source": [
        "#  3) ratings_counts vs ratings\n",
        "\n",
        "plt.figure(figsize=(8,6))  \n",
        "plt.rcParams['patch.force_edgecolor'] = True  \n",
        "sns.jointplot(x='rating', y='rating_counts', data=ratings_mean_count, alpha=0.4) \n"
      ],
      "execution_count": 0,
      "outputs": [
        {
          "output_type": "execute_result",
          "data": {
            "text/plain": [
              "<seaborn.axisgrid.JointGrid at 0x7f15045ad128>"
            ]
          },
          "metadata": {
            "tags": []
          },
          "execution_count": 64
        },
        {
          "output_type": "display_data",
          "data": {
            "text/plain": [
              "<matplotlib.figure.Figure at 0x7f15049473c8>"
            ]
          },
          "metadata": {
            "tags": []
          }
        },
        {
          "output_type": "display_data",
          "data": {
            "image/png": "[encoded data removed]",
            "text/plain": [
              "<matplotlib.figure.Figure at 0x7f15045ad898>"
            ]
          },
          "metadata": {
            "tags": []
          }
        }
      ]
    },
    {
      "cell_type": "code",
      "metadata": {
        "id": "gNLcuQgr1F3A",
        "colab_type": "code",
        "outputId": "336956b3-6775-4e7d-ff54-effe71030438",
        "colab": {
          "base_uri": "https://localhost:8080/",
          "height": 458
        }
      },
      "source": [
        "##  \n",
        "\n",
        "user_movie_rating = movie_data.pivot_table(index='userId', columns='title', values='rating')\n",
        "\n",
        "#print(user_movie_rating)\n",
        "forrest_gump_ratings = user_movie_rating['Forrest Gump (1994)'] \n",
        "\n",
        "movies_like_forest_gump = user_movie_rating.corrwith(forrest_gump_ratings)\n",
        "\n",
        "corr_forrest_gump = pd.DataFrame(movies_like_forest_gump, columns=['Correlation'])  \n",
        "corr_forrest_gump.dropna(inplace=True)  \n",
        "corr_forrest_gump.head()\n",
        "\n",
        "corr_forrest_gump.sort_values('Correlation', ascending=False).head(10) \n",
        "\n",
        "corr_forrest_gump = corr_forrest_gump.join(ratings_mean_count['rating_counts'])  \n",
        "corr_forrest_gump.sort_values('Correlation', ascending=False).head(10) "
      ],
      "execution_count": 0,
      "outputs": [
        {
          "output_type": "stream",
          "text": [
            "/usr/local/lib/python3.6/dist-packages/numpy/lib/function_base.py:3175: RuntimeWarning: Degrees of freedom <= 0 for slice\n",
            "  c = cov(x, y, rowvar)\n",
            "/usr/local/lib/python3.6/dist-packages/numpy/lib/function_base.py:3109: RuntimeWarning: divide by zero encountered in double_scalars\n",
            "  c *= 1. / np.float64(fact)\n"
          ],
          "name": "stderr"
        },
        {
          "output_type": "execute_result",
          "data": {
            "text/html": [
              "<div>\n",
              "<style scoped>\n",
              "    .dataframe tbody tr th:only-of-type {\n",
              "        vertical-align: middle;\n",
              "    }\n",
              "\n",
              "    .dataframe tbody tr th {\n",
              "        vertical-align: top;\n",
              "    }\n",
              "\n",
              "    .dataframe thead th {\n",
              "        text-align: right;\n",
              "    }\n",
              "</style>\n",
              "<table border=\"1\" class=\"dataframe\">\n",
              "  <thead>\n",
              "    <tr style=\"text-align: right;\">\n",
              "      <th></th>\n",
              "      <th>Correlation</th>\n",
              "      <th>rating_counts</th>\n",
              "    </tr>\n",
              "    <tr>\n",
              "      <th>title</th>\n",
              "      <th></th>\n",
              "      <th></th>\n",
              "    </tr>\n",
              "  </thead>\n",
              "  <tbody>\n",
              "    <tr>\n",
              "      <th>Lost &amp; Found (1999)</th>\n",
              "      <td>1.0</td>\n",
              "      <td>2</td>\n",
              "    </tr>\n",
              "    <tr>\n",
              "      <th>Century of the Self, The (2002)</th>\n",
              "      <td>1.0</td>\n",
              "      <td>2</td>\n",
              "    </tr>\n",
              "    <tr>\n",
              "      <th>The 5th Wave (2016)</th>\n",
              "      <td>1.0</td>\n",
              "      <td>2</td>\n",
              "    </tr>\n",
              "    <tr>\n",
              "      <th>Play Time (a.k.a. Playtime) (1967)</th>\n",
              "      <td>1.0</td>\n",
              "      <td>3</td>\n",
              "    </tr>\n",
              "    <tr>\n",
              "      <th>Memories (Memorîzu) (1995)</th>\n",
              "      <td>1.0</td>\n",
              "      <td>3</td>\n",
              "    </tr>\n",
              "    <tr>\n",
              "      <th>Playing God (1997)</th>\n",
              "      <td>1.0</td>\n",
              "      <td>3</td>\n",
              "    </tr>\n",
              "    <tr>\n",
              "      <th>Killers (2010)</th>\n",
              "      <td>1.0</td>\n",
              "      <td>2</td>\n",
              "    </tr>\n",
              "    <tr>\n",
              "      <th>Girl Walks Home Alone at Night, A (2014)</th>\n",
              "      <td>1.0</td>\n",
              "      <td>2</td>\n",
              "    </tr>\n",
              "    <tr>\n",
              "      <th>Tampopo (1985)</th>\n",
              "      <td>1.0</td>\n",
              "      <td>3</td>\n",
              "    </tr>\n",
              "    <tr>\n",
              "      <th>Cercle Rouge, Le (Red Circle, The) (1970)</th>\n",
              "      <td>1.0</td>\n",
              "      <td>3</td>\n",
              "    </tr>\n",
              "  </tbody>\n",
              "</table>\n",
              "</div>"
            ],
            "text/plain": [
              "                                           Correlation  rating_counts\n",
              "title                                                                \n",
              "Lost & Found (1999)                                1.0              2\n",
              "Century of the Self, The (2002)                    1.0              2\n",
              "The 5th Wave (2016)                                1.0              2\n",
              "Play Time (a.k.a. Playtime) (1967)                 1.0              3\n",
              "Memories (Memorîzu) (1995)                         1.0              3\n",
              "Playing God (1997)                                 1.0              3\n",
              "Killers (2010)                                     1.0              2\n",
              "Girl Walks Home Alone at Night, A (2014)           1.0              2\n",
              "Tampopo (1985)                                     1.0              3\n",
              "Cercle Rouge, Le (Red Circle, The) (1970)          1.0              3"
            ]
          },
          "metadata": {
            "tags": []
          },
          "execution_count": 73
        }
      ]
    },
    {
      "cell_type": "code",
      "metadata": {
        "id": "ozVY_iUnJ8AX",
        "colab_type": "code",
        "outputId": "f92f9278-fa7f-4dba-955e-07fe5dfc2e92",
        "colab": {
          "base_uri": "https://localhost:8080/",
          "height": 235
        }
      },
      "source": [
        "corr_forrest_gump[corr_forrest_gump ['rating_counts']>50].sort_values('Correlation', ascending=False).head()"
      ],
      "execution_count": 0,
      "outputs": [
        {
          "output_type": "execute_result",
          "data": {
            "text/html": [
              "<div>\n",
              "<style scoped>\n",
              "    .dataframe tbody tr th:only-of-type {\n",
              "        vertical-align: middle;\n",
              "    }\n",
              "\n",
              "    .dataframe tbody tr th {\n",
              "        vertical-align: top;\n",
              "    }\n",
              "\n",
              "    .dataframe thead th {\n",
              "        text-align: right;\n",
              "    }\n",
              "</style>\n",
              "<table border=\"1\" class=\"dataframe\">\n",
              "  <thead>\n",
              "    <tr style=\"text-align: right;\">\n",
              "      <th></th>\n",
              "      <th>Correlation</th>\n",
              "      <th>rating_counts</th>\n",
              "    </tr>\n",
              "    <tr>\n",
              "      <th>title</th>\n",
              "      <th></th>\n",
              "      <th></th>\n",
              "    </tr>\n",
              "  </thead>\n",
              "  <tbody>\n",
              "    <tr>\n",
              "      <th>Forrest Gump (1994)</th>\n",
              "      <td>1.000000</td>\n",
              "      <td>329</td>\n",
              "    </tr>\n",
              "    <tr>\n",
              "      <th>Mr. Holland's Opus (1995)</th>\n",
              "      <td>0.652144</td>\n",
              "      <td>80</td>\n",
              "    </tr>\n",
              "    <tr>\n",
              "      <th>Pocahontas (1995)</th>\n",
              "      <td>0.550118</td>\n",
              "      <td>68</td>\n",
              "    </tr>\n",
              "    <tr>\n",
              "      <th>Grumpier Old Men (1995)</th>\n",
              "      <td>0.534682</td>\n",
              "      <td>52</td>\n",
              "    </tr>\n",
              "    <tr>\n",
              "      <th>Caddyshack (1980)</th>\n",
              "      <td>0.520328</td>\n",
              "      <td>52</td>\n",
              "    </tr>\n",
              "  </tbody>\n",
              "</table>\n",
              "</div>"
            ],
            "text/plain": [
              "                           Correlation  rating_counts\n",
              "title                                                \n",
              "Forrest Gump (1994)           1.000000            329\n",
              "Mr. Holland's Opus (1995)     0.652144             80\n",
              "Pocahontas (1995)             0.550118             68\n",
              "Grumpier Old Men (1995)       0.534682             52\n",
              "Caddyshack (1980)             0.520328             52"
            ]
          },
          "metadata": {
            "tags": []
          },
          "execution_count": 74
        }
      ]
    },
    {
      "cell_type": "code",
      "metadata": {
        "id": "_4LjAkqrLNtv",
        "colab_type": "code",
        "colab": {}
      },
      "source": [
        ""
      ],
      "execution_count": 0,
      "outputs": []
    }
  ]
}